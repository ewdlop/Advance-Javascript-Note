{
 "cells": [
  {
   "cell_type": "code",
   "execution_count": null,
   "metadata": {
    "dotnet_interactive": {
     "language": "javascript"
    },
    "polyglot_notebook": {
     "kernelName": "javascript"
    },
    "vscode": {
     "languageId": "polyglot-notebook"
    }
   },
   "outputs": [
    {
     "ename": "Error",
     "evalue": "originalChunk is not a function",
     "output_type": "error",
     "traceback": [
      "originalChunk is not a function"
     ]
    }
   ],
   "source": [
    "require(['lodash'], function(lodash) {\n",
    "    // Store the original .chunk function\n",
    "    const originalChunk = lodash.chunk;\n",
    "\n",
    "    // Override the .chunk function\n",
    "    lodash.chunk = function(array, size) {\n",
    "        console.log('Custom chunk function called');\n",
    "        // Custom behavior\n",
    "        let result = [];\n",
    "        for (let i = 0; i < array.length; i += size) {\n",
    "            result.push(array.slice(i, i + size));\n",
    "        }\n",
    "        return result;\n",
    "    };\n",
    "\n",
    "    // Use the overridden function within this scope\n",
    "    console.log(lodash.chunk(['a', 'b', 'c', 'd'], 2));\n",
    "    // Output: Custom chunk function called\n",
    "    // [['a', 'b'], ['c', 'd']]\n",
    "\n",
    "    // Restore the original function after use\n",
    "    lodash.chunk = originalChunk;\n",
    "}(this));\n",
    "\n",
    "require(['lodash'], function(lodash) {\n",
    "    // The original .chunk function is restored here\n",
    "    console.log(lodash.chunk(['a', 'b', 'c', 'd'], 2));\n",
    "    // Output: [['a', 'b'], ['c', 'd']]\n",
    "}(this));\n",
    "\n",
    "\n",
    "let x = console.log()\n",
    "{\n",
    "    let y = console.log;\n",
    "    console.log(13);\n",
    "}"
   ]
  },
  {
   "cell_type": "code",
   "execution_count": 8,
   "metadata": {
    "dotnet_interactive": {
     "language": "html"
    },
    "polyglot_notebook": {
     "kernelName": "html"
    },
    "vscode": {
     "languageId": "polyglot-notebook"
    }
   },
   "outputs": [
    {
     "data": {
      "text/html": [
       "<svg id=\"d3_target\"></svg>"
      ]
     },
     "metadata": {},
     "output_type": "display_data"
    }
   ],
   "source": [
    "<svg id=\"d3_target\"></svg>"
   ]
  },
  {
   "cell_type": "code",
   "execution_count": 25,
   "metadata": {
    "dotnet_interactive": {
     "language": "javascript"
    },
    "polyglot_notebook": {
     "kernelName": "javascript"
    },
    "vscode": {
     "languageId": "polyglot-notebook"
    }
   },
   "outputs": [],
   "source": [
    "d3 = await import(\"https://cdn.jsdelivr.net/npm/d3@7/+esm\");\n",
    "\n",
    "const width = 400;\n",
    "const height = 400;\n",
    "const svg = d3.select(\"#d3_target\");\n",
    "\n",
    "svg\n",
    "  .attr(\"width\", width)\n",
    "  .attr(\"height\", 400)\n",
    "  .attr(\"viewBox\", [0, 0, width, height])\n",
    "  .attr(\"style\", \"max-width: 100%; height: auto; height: intrinsic;\");\n",
    "\n",
    "svg\n",
    "  .append(\"circle\")\n",
    "  .attr(\"fill\", \"red\")\n",
    "  .attr(\"cx\", width/2)\n",
    "  .attr(\"cy\", height/2)\n",
    "  .attr(\"r\", \"100\");\n"
   ]
  },
  {
   "cell_type": "code",
   "execution_count": 36,
   "metadata": {
    "dotnet_interactive": {
     "language": "javascript"
    },
    "polyglot_notebook": {
     "kernelName": "javascript"
    },
    "vscode": {
     "languageId": "polyglot-notebook"
    }
   },
   "outputs": [
    {
     "ename": "Error",
     "evalue": "http.createServer is not a function",
     "output_type": "error",
     "traceback": [
      "http.createServer is not a function"
     ]
    }
   ],
   "source": [
    "require(['http'], function(http) {\n",
    "    // Your code using the http module\n",
    "    const server = http.createServer((req, res) => {\n",
    "        res.statusCode = 200;\n",
    "        res.setHeader('Content-Type', 'text/plain');\n",
    "        res.end('Hello World\\n');\n",
    "    });\n",
    "\n",
    "    server.listen(3000, '127.0.0.1', () => {\n",
    "        console.log('Server running at http://127.0.0.1:3000/');\n",
    "    });\n",
    "}(this));"
   ]
  },
  {
   "cell_type": "code",
   "execution_count": 11,
   "metadata": {
    "dotnet_interactive": {
     "language": "javascript"
    },
    "polyglot_notebook": {
     "kernelName": "javascript"
    },
    "vscode": {
     "languageId": "polyglot-notebook"
    }
   },
   "outputs": [],
   "source": [
    "plotlyloader = (require.config({\n",
    "    paths: {\n",
    "        d3: 'https://cdn.jsdelivr.net/npm/d3@7.4.4/dist/d3.min',\n",
    "        jquery: 'https://cdn.jsdelivr.net/npm/jquery@3.6.0/dist/jquery.min',\n",
    "        plotly: 'https://cdn.plot.ly/plotly-2.14.0.min'\n",
    "    },\n",
    "\n",
    "    shim: {\n",
    "        plotly: {\n",
    "            deps: ['d3', 'jquery'],\n",
    "            exports: 'plotly'\n",
    "        }\n",
    "    }\n",
    "}) || require);\n",
    "\n",
    "plotlyloader(['d3', 'plotly'], function (d3, plotly) {\n",
    "    var trace1 = {\n",
    "        x: [1, 2, 3, 4],\n",
    "        y: [10, 15, 13, 17],\n",
    "        mode: 'markers',\n",
    "        type: 'scatter'\n",
    "      };\n",
    "      \n",
    "      var trace2 = {\n",
    "        x: [2, 3, 4, 5],\n",
    "        y: [16, 5, 11, 9],\n",
    "        mode: 'lines',\n",
    "        type: 'scatter'\n",
    "      };\n",
    "      \n",
    "      var trace3 = {\n",
    "        x: [1, 2, 3, 4],\n",
    "        y: [12, 9, 15, 12],\n",
    "        mode: 'lines+markers',\n",
    "        type: 'scatter'\n",
    "      };\n",
    "      \n",
    "      var data = [trace1, trace2, trace3];\n",
    "      \n",
    "      plotly.newPlot('target', data);\n",
    "    \n",
    "});"
   ]
  },
  {
   "cell_type": "code",
   "execution_count": 10,
   "metadata": {
    "dotnet_interactive": {
     "language": "javascript"
    },
    "polyglot_notebook": {
     "kernelName": "javascript"
    },
    "vscode": {
     "languageId": "polyglot-notebook"
    }
   },
   "outputs": [
    {
     "data": {
      "text/plain": [
       "2"
      ]
     },
     "metadata": {},
     "output_type": "display_data"
    },
    {
     "data": {
      "text/plain": [
       "42"
      ]
     },
     "metadata": {},
     "output_type": "display_data"
    },
    {
     "data": {
      "text/plain": [
       "() => {\n",
       "  \n",
       "}"
      ]
     },
     "metadata": {},
     "output_type": "display_data"
    },
    {
     "data": {
      "text/plain": [
       "null"
      ]
     },
     "metadata": {},
     "output_type": "display_data"
    },
    {
     "data": {
      "application/json": {}
     },
     "metadata": {},
     "output_type": "display_data"
    }
   ],
   "source": [
    "y ={\n",
    "  \n",
    "};\n",
    "\n",
    "y.d = function(){\n",
    "  return 2;\n",
    "}\n",
    "\n",
    "console.log(y.d())\n",
    "\n",
    "y.d = (() =>{\n",
    "  \n",
    "},42);\n",
    "\n",
    "console.log(y.d)\n",
    "\n",
    "y.d = (() => {\n",
    "  \n",
    "});\n",
    "\n",
    "console.log(y.d)\n",
    "\n",
    "y = {\n",
    "  \n",
    "}\n",
    "\n",
    "y = {}.d = {}\n",
    "\n",
    "console.log(y.d)\n",
    "console.log(y)"
   ]
  }
 ],
 "metadata": {
  "kernelspec": {
   "display_name": ".NET (C#)",
   "language": "C#",
   "name": ".net-csharp"
  },
  "language_info": {
   "name": "python",
   "version": "3.11.9"
  },
  "polyglot_notebook": {
   "kernelInfo": {
    "defaultKernelName": "csharp",
    "items": [
     {
      "aliases": [],
      "name": "csharp"
     }
    ]
   }
  }
 },
 "nbformat": 4,
 "nbformat_minor": 2
}

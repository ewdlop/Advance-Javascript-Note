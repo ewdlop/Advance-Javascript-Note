{
 "cells": [
  {
   "cell_type": "markdown",
   "metadata": {},
   "source": [
    "# Introduction to RequireJS\n",
    "Provide a brief introduction to RequireJS and its purpose in loading modules asynchronously."
   ]
  },
  {
   "cell_type": "code",
   "execution_count": 1,
   "metadata": {},
   "outputs": [
    {
     "data": {
      "application/javascript": "\nrequire(['lodash'], function(lodash) {\n    // Store the original .chunk function\n    const originalChunk = lodash.chunk;\n\n    // Override the .chunk function\n    lodash.chunk = function(array, size) {\n        console.log('Custom chunk function called');\n        // Custom behavior\n        let result = [];\n        for (let i = 0; i < array.length; i += size) {\n            result.push(array.slice(i, i + size));\n        }\n        return result;\n    };\n\n    // Use the overridden function within this scope\n    console.log(lodash.chunk(['a', 'b', 'c', 'd'], 2));\n    // Output: Custom chunk function called\n    // [['a', 'b'], ['c', 'd']]\n\n    // Restore the original function after use\n    lodash.chunk = originalChunk;\n}());\n",
      "text/plain": [
       "<IPython.core.display.Javascript object>"
      ]
     },
     "metadata": {},
     "output_type": "display_data"
    }
   ],
   "source": [
    "# Introduction to RequireJS\n",
    "# Provide a brief introduction to RequireJS and its purpose in loading modules asynchronously.\n",
    "\n",
    "# RequireJS is a JavaScript file and module loader. It is optimized for in-browser use, but it can be used in other JavaScript environments, such as Rhino and Node. Using a modular script loader like RequireJS will improve the speed and quality of your code.\n",
    "\n",
    "# Example of using RequireJS to load Lodash and override its chunk function\n",
    "\n",
    "from IPython.display import display, Javascript\n",
    "\n",
    "display(Javascript(\"\"\"\n",
    "require(['lodash'], function(lodash) {\n",
    "    // Store the original .chunk function\n",
    "    const originalChunk = lodash.chunk;\n",
    "\n",
    "    // Override the .chunk function\n",
    "    lodash.chunk = function(array, size) {\n",
    "        console.log('Custom chunk function called');\n",
    "        // Custom behavior\n",
    "        let result = [];\n",
    "        for (let i = 0; i < array.length; i += size) {\n",
    "            result.push(array.slice(i, i + size));\n",
    "        }\n",
    "        return result;\n",
    "    };\n",
    "\n",
    "    // Use the overridden function within this scope\n",
    "    console.log(lodash.chunk(['a', 'b', 'c', 'd'], 2));\n",
    "    // Output: Custom chunk function called\n",
    "    // [['a', 'b'], ['c', 'd']]\n",
    "\n",
    "    // Restore the original function after use\n",
    "    lodash.chunk = originalChunk;\n",
    "}());\n",
    "\"\"\"))"
   ]
  },
  {
   "cell_type": "code",
   "execution_count": 2,
   "metadata": {},
   "outputs": [
    {
     "data": {
      "text/html": [
       "\n",
       "<script src=\"https://cdnjs.cloudflare.com/ajax/libs/require.js/2.1.10/require.min.js\"></script><div>1. Loading RequireJS...</div>\n"
      ],
      "text/plain": [
       "<IPython.core.display.HTML object>"
      ]
     },
     "metadata": {},
     "output_type": "display_data"
    },
    {
     "data": {
      "application/javascript": "alert(\"hello world\");",
      "text/plain": [
       "<IPython.core.display.Javascript object>"
      ]
     },
     "execution_count": 2,
     "metadata": {},
     "output_type": "execute_result"
    }
   ],
   "source": [
    "from IPython.display import HTML, display\n",
    "from time import sleep\n",
    "\n",
    "display(HTML(\"\"\"\n",
    "<script src=\"https://cdnjs.cloudflare.com/ajax/libs/require.js/2.1.10/require.min.js\"></script><div>1. Loading RequireJS...</div>\n",
    "\"\"\"))\n",
    "\n",
    "Javascript('alert(\"hello world\");')"
   ]
  },
  {
   "cell_type": "markdown",
   "metadata": {},
   "source": [
    "# Loading Lodash with RequireJS\n",
    "Demonstrate how to load the Lodash library using RequireJS."
   ]
  },
  {
   "cell_type": "code",
   "execution_count": 3,
   "metadata": {},
   "outputs": [
    {
     "data": {
      "application/javascript": "\nrequire.config({\n    paths: {\n        'lodash': 'https://cdnjs.cloudflare.com/ajax/libs/lodash.js/4.17.21/lodash.min'\n    }\n});\n\nrequire(['lodash'], function(lodash) {\n    console.log('Lodash has been loaded:', lodash.VERSION);\n}());\n",
      "text/plain": [
       "<IPython.core.display.Javascript object>"
      ]
     },
     "metadata": {},
     "output_type": "display_data"
    }
   ],
   "source": [
    "from IPython.display import display, Javascript\n",
    "\n",
    "display(Javascript(\"\"\"\n",
    "require.config({\n",
    "    paths: {\n",
    "        'lodash': 'https://cdnjs.cloudflare.com/ajax/libs/lodash.js/4.17.21/lodash.min'\n",
    "    }\n",
    "});\n",
    "\n",
    "require(['lodash'], function(lodash) {\n",
    "    console.log('Lodash has been loaded:', lodash.VERSION);\n",
    "}());\n",
    "\"\"\"))"
   ]
  },
  {
   "cell_type": "markdown",
   "metadata": {},
   "source": [
    "# Overriding Lodash Functions\n",
    "Show how to override a Lodash function, such as the chunk function, with custom behavior."
   ]
  },
  {
   "cell_type": "code",
   "execution_count": 5,
   "metadata": {},
   "outputs": [
    {
     "data": {
      "application/javascript": "\nrequire(['lodash'], function(lodash) {\n    // Store the original .chunk function\n    const originalChunk = lodash.chunk;\n\n    // Override the .chunk function\n    lodash.chunk = function(array, size) {\n        console.log('Custom chunk function called');\n        // Custom behavior\n        let result = [];\n        for (let i = 0; i < array.length; i += size) {\n            result.push(array.slice(i, i + size));\n        }\n        return result;\n    };\n\n    // Use the overridden function within this scope\n    console.log(lodash.chunk(['a', 'b', 'c', 'd'], 2));\n    // Output: Custom chunk function called\n    // [['a', 'b'], ['c', 'd']]\n\n    // Restore the original function after use\n    lodash.chunk = originalChunk;\n}());\n",
      "text/plain": [
       "<IPython.core.display.Javascript object>"
      ]
     },
     "metadata": {},
     "output_type": "display_data"
    }
   ],
   "source": [
    "from IPython.display import display, Javascript\n",
    "\n",
    "display(Javascript(\"\"\"\n",
    "require(['lodash'], function(lodash) {\n",
    "    // Store the original .chunk function\n",
    "    const originalChunk = lodash.chunk;\n",
    "\n",
    "    // Override the .chunk function\n",
    "    lodash.chunk = function(array, size) {\n",
    "        console.log('Custom chunk function called');\n",
    "        // Custom behavior\n",
    "        let result = [];\n",
    "        for (let i = 0; i < array.length; i += size) {\n",
    "            result.push(array.slice(i, i + size));\n",
    "        }\n",
    "        return result;\n",
    "    };\n",
    "\n",
    "    // Use the overridden function within this scope\n",
    "    console.log(lodash.chunk(['a', 'b', 'c', 'd'], 2));\n",
    "    // Output: Custom chunk function called\n",
    "    // [['a', 'b'], ['c', 'd']]\n",
    "\n",
    "    // Restore the original function after use\n",
    "    lodash.chunk = originalChunk;\n",
    "}());\n",
    "\"\"\"))"
   ]
  },
  {
   "cell_type": "markdown",
   "metadata": {},
   "source": [
    "# Executing the Code Block\n",
    "Explain how to execute the code block that overrides the Lodash function and logs the output."
   ]
  },
  {
   "cell_type": "code",
   "execution_count": 8,
   "metadata": {},
   "outputs": [
    {
     "data": {
      "application/javascript": "\nrequire.config({\n    paths: {\n        'lodash': 'https://cdnjs.cloudflare.com/ajax/libs/lodash.js/4.17.21/lodash.min'\n    }\n});\n\nrequire(['lodash'], function(lodash) {\n    // Store the original .chunk function\n    const originalChunk = lodash.chunk;\n\n    // Override the .chunk function\n    lodash.chunk = function(array, size) {\n        console.log('Custom chunk function called');\n        // Custom behavior\n        let result = [];\n        for (let i = 0; i < array.length; i += size) {\n            result.push(array.slice(i, i + size));\n        }\n        return result;\n    };\n\n    // Use the overridden function within this scope\n    console.log(lodash.chunk(['a', 'b', 'c', 'd'], 2));\n    // Output: Custom chunk function called\n    // [['a', 'b'], ['c', 'd']]\n\n    // Restore the original function after use\n    lodash.chunk = originalChunk;\n}());\n",
      "text/plain": [
       "<IPython.core.display.Javascript object>"
      ]
     },
     "metadata": {},
     "output_type": "display_data"
    }
   ],
   "source": [
    "from IPython.display import display, Javascript\n",
    "\n",
    "display(Javascript(\"\"\"\n",
    "require.config({\n",
    "    paths: {\n",
    "        'lodash': 'https://cdnjs.cloudflare.com/ajax/libs/lodash.js/4.17.21/lodash.min'\n",
    "    }\n",
    "});\n",
    "\n",
    "require(['lodash'], function(lodash) {\n",
    "    // Store the original .chunk function\n",
    "    const originalChunk = lodash.chunk;\n",
    "\n",
    "    // Override the .chunk function\n",
    "    lodash.chunk = function(array, size) {\n",
    "        console.log('Custom chunk function called');\n",
    "        // Custom behavior\n",
    "        let result = [];\n",
    "        for (let i = 0; i < array.length; i += size) {\n",
    "            result.push(array.slice(i, i + size));\n",
    "        }\n",
    "        return result;\n",
    "    };\n",
    "\n",
    "    // Use the overridden function within this scope\n",
    "    console.log(lodash.chunk(['a', 'b', 'c', 'd'], 2));\n",
    "    // Output: Custom chunk function called\n",
    "    // [['a', 'b'], ['c', 'd']]\n",
    "\n",
    "    // Restore the original function after use\n",
    "    lodash.chunk = originalChunk;\n",
    "}());\n",
    "\"\"\"))"
   ]
  },
  {
   "cell_type": "markdown",
   "metadata": {},
   "source": [
    "# Restoring Original Functions\n",
    "Illustrate how to restore the original Lodash function after executing the custom code."
   ]
  },
  {
   "cell_type": "code",
   "execution_count": null,
   "metadata": {},
   "outputs": [
    {
     "data": {
      "application/javascript": "\nrequire(['lodash'], function(lodash) {\n    // Store the original .chunk function\n    const originalChunk = lodash.chunk;\n\n    // Override the .chunk function\n    lodash.chunk = function(array, size) {\n        console.log('Custom chunk function called');\n        // Custom behavior\n        let result = [];\n        for (let i = 0; i < array.length; i += size) {\n            result.push(array.slice(i, i + size));\n        }\n        return result;\n    };\n\n    // Use the overridden function within this scope\n    console.log(lodash.chunk(['a', 'b', 'c', 'd'], 2));\n    // Output: Custom chunk function called\n    // [['a', 'b'], ['c', 'd']]\n\n    // Restore the original function after use\n    lodash.chunk = originalChunk;\n});\n",
      "text/plain": [
       "<IPython.core.display.Javascript object>"
      ]
     },
     "metadata": {},
     "output_type": "display_data"
    }
   ],
   "source": [
    "from IPython.display import display, Javascript\n",
    "\n",
    "display(Javascript(\"\"\"\n",
    "require(['lodash'], function(lodash) {\n",
    "    // Store the original .chunk function\n",
    "    const originalChunk = lodash.chunk;\n",
    "\n",
    "    // Override the .chunk function\n",
    "    lodash.chunk = function(array, size) {\n",
    "        console.log('Custom chunk function called');\n",
    "        // Custom behavior\n",
    "        let result = [];\n",
    "        for (let i = 0; i < array.length; i += size) {\n",
    "            result.push(array.slice(i, i + size));\n",
    "        }\n",
    "        return result;\n",
    "    };\n",
    "\n",
    "    // Use the overridden function within this scope\n",
    "    console.log(lodash.chunk(['a', 'b', 'c', 'd'], 2));\n",
    "    // Output: Custom chunk function called\n",
    "    // [['a', 'b'], ['c', 'd']]\n",
    "\n",
    "    // Restore the original function after use\n",
    "    lodash.chunk = originalChunk;\n",
    "}());\n",
    "\"\"\"))"
   ]
  }
 ],
 "metadata": {
  "kernelspec": {
   "display_name": "Python 3",
   "language": "python",
   "name": "python3"
  },
  "language_info": {
   "codemirror_mode": {
    "name": "ipython",
    "version": 3
   },
   "file_extension": ".py",
   "mimetype": "text/x-python",
   "name": "python",
   "nbconvert_exporter": "python",
   "pygments_lexer": "ipython3",
   "version": "3.11.9"
  }
 },
 "nbformat": 4,
 "nbformat_minor": 2
}
